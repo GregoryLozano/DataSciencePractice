{
 "cells": [
  {
   "cell_type": "markdown",
   "id": "863aed72-c9d2-4cec-ac57-97ceb2a1d297",
   "metadata": {},
   "source": [
    "# Data Science Tools and Ecosystem"
   ]
  },
  {
   "cell_type": "markdown",
   "id": "fef928c9-0496-4f9f-a566-9da5199fa071",
   "metadata": {},
   "source": [
    "In this notebook, Data Science Tools and Ecosystem are summarized."
   ]
  },
  {
   "cell_type": "markdown",
   "id": "89a670d2-c4a5-4676-b4fc-7339bdb75219",
   "metadata": {},
   "source": [
    "Some of the popular languages that Data Scientists use are:\n",
    "\n",
    "1. Python\n",
    "2. R\n",
    "3. SQL"
   ]
  },
  {
   "cell_type": "markdown",
   "id": "be99eee4-b79d-4d5f-a7eb-b091436b1b52",
   "metadata": {},
   "source": [
    "Some of the commonly used libraries used by Data Scientists include:\n",
    "\n",
    "1. Pandas\n",
    "2. Numpy\n",
    "3. MatplotLib\n",
    "4. TensorFlow"
   ]
  },
  {
   "cell_type": "markdown",
   "id": "892223bb-1970-4d11-a004-9578239b60ca",
   "metadata": {},
   "source": [
    "|Data Science Tools|\n",
    "|------------------|\n",
    "|JupyterLab|\n",
    "|Scikit-learn|\n",
    "|Numpy|"
   ]
  },
  {
   "cell_type": "markdown",
   "id": "fdf863fa-4e49-488e-9873-1a40871ff700",
   "metadata": {},
   "source": [
    "### Below are a few examples of evaluating arithmetic expressions in Python"
   ]
  },
  {
   "cell_type": "code",
   "execution_count": 1,
   "id": "0261ecf2-b050-43c7-b598-0fc9a847f1c3",
   "metadata": {},
   "outputs": [
    {
     "data": {
      "text/plain": [
       "17"
      ]
     },
     "execution_count": 1,
     "metadata": {},
     "output_type": "execute_result"
    }
   ],
   "source": [
    "#This a simple arithmetic expression to mutiply then add integers\n",
    "(3*4)+5"
   ]
  },
  {
   "cell_type": "code",
   "execution_count": 2,
   "id": "cd799e8c-ad0c-4cbe-9030-4f212b1b0ae3",
   "metadata": {},
   "outputs": [
    {
     "name": "stdout",
     "output_type": "stream",
     "text": [
      "3.3333333333333335\n"
     ]
    }
   ],
   "source": [
    "#This will convert 200 minutes to hours by diving by 60\n",
    "\n",
    "minutes=200\n",
    "\n",
    "hours=minutes/60\n",
    "\n",
    "print(hours)\n"
   ]
  },
  {
   "cell_type": "markdown",
   "id": "478e098e-66e8-4352-964f-faecdf9ca8b2",
   "metadata": {},
   "source": [
    "**Objectives:**\n",
    "- List of libraries in data science\n",
    "- List of the languages that Data Scientists use\n",
    "- Create a ordered list\n",
    "- Create a unordered list "
   ]
  },
  {
   "cell_type": "markdown",
   "id": "10b00d86-e26e-4bcf-9a00-4026e1c6b9ef",
   "metadata": {},
   "source": [
    "## Author \n",
    "Gregory Lozano Gómez\n"
   ]
  },
  {
   "cell_type": "code",
   "execution_count": null,
   "id": "4c98d825-b8d0-4dca-846d-9f1de8c24595",
   "metadata": {},
   "outputs": [],
   "source": []
  }
 ],
 "metadata": {
  "kernelspec": {
   "display_name": "Python 3 (ipykernel)",
   "language": "python",
   "name": "python3"
  },
  "language_info": {
   "codemirror_mode": {
    "name": "ipython",
    "version": 3
   },
   "file_extension": ".py",
   "mimetype": "text/x-python",
   "name": "python",
   "nbconvert_exporter": "python",
   "pygments_lexer": "ipython3",
   "version": "3.12.8"
  }
 },
 "nbformat": 4,
 "nbformat_minor": 5
}
